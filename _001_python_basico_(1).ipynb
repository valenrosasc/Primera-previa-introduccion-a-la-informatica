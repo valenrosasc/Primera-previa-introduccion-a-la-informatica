{
  "nbformat": 4,
  "nbformat_minor": 0,
  "metadata": {
    "colab": {
      "name": "_001_python_basico (1).ipynb",
      "provenance": [],
      "collapsed_sections": []
    },
    "kernelspec": {
      "name": "python3",
      "display_name": "Python 3"
    },
    "language_info": {
      "name": "python"
    }
  },
  "cells": [
    {
      "cell_type": "markdown",
      "metadata": {
        "id": "yHjjywKbMwyV"
      },
      "source": [
        "##Python básico\n",
        "\n",
        "Introducción a los conceptos fundamentales del lenguaje Python. Este documento hace referencia a los fundamentos numéricos del lenguaje, y sus aplicaciones a funciones y arreglos numéricos."
      ]
    },
    {
      "cell_type": "markdown",
      "metadata": {
        "id": "3PNATRkfNKOm"
      },
      "source": [
        "### Variables y Cadenas"
      ]
    },
    {
      "cell_type": "code",
      "metadata": {
        "colab": {
          "base_uri": "https://localhost:8080/"
        },
        "id": "EkY2tinHM43C",
        "outputId": "98348339-7ea4-4e2e-bdca-d2b7dbc1de7d"
      },
      "source": [
        "# Una variable es una zona de memoria a la cual se asigna un nombre.\n",
        "# En dicho espacio se pueden almacenar datos de diferente tipo.\n",
        "# En este ejemplo se define una variable:\n",
        "# -----------------------------------------------------------------\n",
        "b = 2   # b es un entero\n",
        "print(b) "
      ],
      "execution_count": null,
      "outputs": [
        {
          "output_type": "stream",
          "name": "stdout",
          "text": [
            "2\n"
          ]
        }
      ]
    },
    {
      "cell_type": "code",
      "metadata": {
        "colab": {
          "base_uri": "https://localhost:8080/"
        },
        "id": "cH8V7e9NXbF9",
        "outputId": "1bdc990c-4786-4f5c-b8cd-107c980df801"
      },
      "source": [
        "b = 3\n",
        "print (b)"
      ],
      "execution_count": null,
      "outputs": [
        {
          "output_type": "stream",
          "name": "stdout",
          "text": [
            "3\n"
          ]
        }
      ]
    },
    {
      "cell_type": "code",
      "metadata": {
        "colab": {
          "base_uri": "https://localhost:8080/"
        },
        "id": "k-rvsrSwNa1w",
        "outputId": "faea162f-53ef-4804-9542-e3f8e905e9bc"
      },
      "source": [
        "# Se modifica el contenido de la variable\n",
        "# ---------------------------------------\n",
        "b = b * 2.0   # Ahora b es de tipo float (decimales)\n",
        "print(b)"
      ],
      "execution_count": null,
      "outputs": [
        {
          "output_type": "stream",
          "name": "stdout",
          "text": [
            "6.0\n"
          ]
        }
      ]
    },
    {
      "cell_type": "code",
      "metadata": {
        "colab": {
          "base_uri": "https://localhost:8080/"
        },
        "id": "8qI2ZWaOXmay",
        "outputId": "53f8d147-655f-4060-861b-e8105bfd152d"
      },
      "source": [
        "b = b * 5\n",
        "print (b)"
      ],
      "execution_count": null,
      "outputs": [
        {
          "output_type": "stream",
          "name": "stdout",
          "text": [
            "30.0\n"
          ]
        }
      ]
    },
    {
      "cell_type": "code",
      "metadata": {
        "colab": {
          "base_uri": "https://localhost:8080/"
        },
        "id": "GQuTY_WFN0cp",
        "outputId": "5ed98b38-6e79-46cd-9fa8-d56f39c55747"
      },
      "source": [
        "# Una cadena es un conjunto de caracteres encerrados entre comillas\n",
        "# En este ejemplo, se definen dos cadenas y se las une\n",
        "# -----------------------------------------------------------------\n",
        "cadena1 = \"Hola Mundo!\"    # Se define una cadena\n",
        "cadena2 = \"Bienvenidos\"    # Se define una segunda cadena\n",
        "saludo  = cadena1 + \" \" + cadena2   # Se concatenan (unen) las tres cadenas\n",
        "print(saludo)"
      ],
      "execution_count": null,
      "outputs": [
        {
          "output_type": "stream",
          "name": "stdout",
          "text": [
            "Hola Mundo! Bienvenidos\n"
          ]
        }
      ]
    },
    {
      "cell_type": "code",
      "metadata": {
        "colab": {
          "base_uri": "https://localhost:8080/"
        },
        "id": "Y2WqyUHLQG3n",
        "outputId": "a8bd71d6-6556-4216-d529-d49fe0721e1d"
      },
      "source": [
        "# A continuación se muestra como seleccionar una parte de una cadena.\n",
        "# Con la notación 5:10 se toma desde la posición quinta\n",
        "# hasta la posición 10, que para este caso es la palabra: \"Mundo\".\n",
        "# Se debe tomar en cuenta que la primera posición es cero (0).\n",
        "# -------------------------------------------------------------------------\n",
        "print(saludo[5:10])"
      ],
      "execution_count": null,
      "outputs": [
        {
          "output_type": "stream",
          "name": "stdout",
          "text": [
            "Mundo\n"
          ]
        }
      ]
    },
    {
      "cell_type": "markdown",
      "metadata": {
        "id": "qMeaYJQJUJTl"
      },
      "source": [
        "## Cadenas inmutables\n",
        "#### Las cadenas son inmutables. No se pueden modificar."
      ]
    },
    {
      "cell_type": "markdown",
      "metadata": {
        "id": "acGDVg2WUV7V"
      },
      "source": [
        "## Tuplas\n",
        "\n",
        "Una tupla es una secuencia arbitraria de objetos separados por comas y encerrados entre paréntesis. Las tuplas soportan las mismas operaciones que los string, y son inmutables. En el siguiente ejemplo, la tupla que se define contiene otra tupla (15,3,85), que se corresponde con el cumpleaños de una persona."
      ]
    },
    {
      "cell_type": "code",
      "metadata": {
        "colab": {
          "base_uri": "https://localhost:8080/"
        },
        "id": "Y6n4caDTRVhR",
        "outputId": "24cd12a6-1523-464e-8a87-49606f4d3ba9"
      },
      "source": [
        "registro = ('Salgado', 'Juan', (15,3,85))   # Esta es una tupla\n",
        "apellido, nombre, nacimiento = registro     # Desempaqueta la tupla\n",
        "\n",
        "print(apellido)\n",
        "print(nombre)\n",
        "\n",
        "año = nacimiento[2]   # Tercera posición en la tupla\n",
        "mes = nacimiento[1]   # Segunda posición en la tupla\n",
        "dia = nacimiento[0]   # Primera posición en la tupla\n",
        "\n",
        "print(año)\n",
        "print(mes)\n",
        "print(dia)"
      ],
      "execution_count": null,
      "outputs": [
        {
          "output_type": "stream",
          "name": "stdout",
          "text": [
            "Salgado\n",
            "Juan\n",
            "85\n",
            "3\n",
            "15\n"
          ]
        }
      ]
    },
    {
      "cell_type": "markdown",
      "metadata": {
        "id": "WuCHF8aJTdW7"
      },
      "source": [
        "## Listas\n",
        "\n",
        "Una lista es como una tupla. La diferencia es que las listas son modificables: se pueden cambiar sus elementos y su longitud. Las listas se identifican porque sus elementos se encierran dentro de corchetes."
      ]
    },
    {
      "cell_type": "code",
      "metadata": {
        "colab": {
          "base_uri": "https://localhost:8080/"
        },
        "id": "b1SuDiUHUPwZ",
        "outputId": "b847932e-9dcd-47ba-a0f5-b5edd33f6351"
      },
      "source": [
        "a = [1.0, 2.0, 3.0]     # Se crea una lista\n",
        "print(a)"
      ],
      "execution_count": null,
      "outputs": [
        {
          "output_type": "stream",
          "name": "stdout",
          "text": [
            "[1.0, 2.0, 3.0]\n"
          ]
        }
      ]
    },
    {
      "cell_type": "code",
      "metadata": {
        "colab": {
          "base_uri": "https://localhost:8080/"
        },
        "id": "DwfQyvazUW3G",
        "outputId": "3b40b8d7-409b-41bc-ab0e-98445ca68572"
      },
      "source": [
        "# Se agrega un elemento a la lista\n",
        "a.append(4.0)\n",
        "print(a)"
      ],
      "execution_count": null,
      "outputs": [
        {
          "output_type": "stream",
          "name": "stdout",
          "text": [
            "[1.0, 2.0, 3.0, 4.0]\n"
          ]
        }
      ]
    },
    {
      "cell_type": "code",
      "metadata": {
        "colab": {
          "base_uri": "https://localhost:8080/"
        },
        "id": "DS3fWtesUfxt",
        "outputId": "7663c9e2-4aee-4717-80ec-7baa9a9cdac0"
      },
      "source": [
        "# Se inserta un elemento en la posición 0 de la lista\n",
        "a.insert(0, 0.0)\n",
        "print(a)"
      ],
      "execution_count": null,
      "outputs": [
        {
          "output_type": "stream",
          "name": "stdout",
          "text": [
            "[0.0, 1.0, 2.0, 3.0, 4.0]\n"
          ]
        }
      ]
    },
    {
      "cell_type": "code",
      "metadata": {
        "colab": {
          "base_uri": "https://localhost:8080/"
        },
        "id": "PRREjAhPUqtN",
        "outputId": "ce24e252-e122-4753-97f4-1cc9ee35cc2a"
      },
      "source": [
        "# Se imprime la longitud de la lista\n",
        "print(len(a))"
      ],
      "execution_count": null,
      "outputs": [
        {
          "output_type": "stream",
          "name": "stdout",
          "text": [
            "5\n"
          ]
        }
      ]
    },
    {
      "cell_type": "code",
      "metadata": {
        "colab": {
          "base_uri": "https://localhost:8080/"
        },
        "id": "q106ZkbRU1-T",
        "outputId": "9a3594bd-9054-4045-c07d-3cc3469ac43d"
      },
      "source": [
        "# Se modifican los elementos seleccionados\n",
        "a[2:4] = [7.0, 7.0]\n",
        "print(a)\n",
        "\n",
        "# Debe notarse que en este caso cuando se utiliza - [2:4], se hace \n",
        "# referencia a los elementos 2 y 3"
      ],
      "execution_count": null,
      "outputs": [
        {
          "output_type": "stream",
          "name": "stdout",
          "text": [
            "[0.0, 1.0, 7.0, 7.0, 4.0]\n"
          ]
        }
      ]
    },
    {
      "cell_type": "markdown",
      "metadata": {
        "id": "md2p-jvlVweu"
      },
      "source": [
        "## Copiando listas\n",
        "\n",
        "Si a es una lista, y se realiza la asignación: b = a, podría parecer que se ha creado una nueva lista, cuyos elementos son los que tenía la lista a. Resulta que este no es el caso: en realidad, b es un nuevo nombre para la lista a. A continuación se presenta un ejemplo."
      ]
    },
    {
      "cell_type": "code",
      "metadata": {
        "colab": {
          "base_uri": "https://localhost:8080/"
        },
        "id": "etkMue9lWRLW",
        "outputId": "97b80207-5cf7-4cc2-b7a5-f76d6a576cb5"
      },
      "source": [
        "# Se crea la lista a\n",
        "a = [1.0, 2.0, 3.0]\n",
        "\n",
        "# Se crea un 'alias' para la lista a\n",
        "b = a\n",
        "\n",
        "# Se modifica el primer elemento utilizando el nombre b\n",
        "b[0] = 5.0\n",
        "\n",
        "# Ahora se imprime la lista a. Como se ve, la lista a, ha sido modificada\n",
        "print(a)"
      ],
      "execution_count": null,
      "outputs": [
        {
          "output_type": "stream",
          "name": "stdout",
          "text": [
            "[5.0, 2.0, 3.0]\n"
          ]
        }
      ]
    },
    {
      "cell_type": "markdown",
      "metadata": {
        "id": "HjTyKwCIW64n"
      },
      "source": [
        "## Copia real de una lista\n",
        "\n",
        "Para crear una copia independiente de la lista a, utilice una instrucción similar a la siguiente: c = a[ : ]. A continuación se ilustra con un ejemplo."
      ]
    },
    {
      "cell_type": "code",
      "metadata": {
        "colab": {
          "base_uri": "https://localhost:8080/"
        },
        "id": "p_zwZYIRXNxp",
        "outputId": "84935165-d51a-46de-92db-f97387a72cd4"
      },
      "source": [
        "a = [1.0, 2.0, 3.0]\n",
        "c = a[:]\n",
        "\n",
        "c[0] = 5.0\n",
        "\n",
        "# La lista original se mantiene igual\n",
        "print(a)\n",
        "\n",
        "# La lista c ha sido modificada en su primer valor\n",
        "print(c)"
      ],
      "execution_count": null,
      "outputs": [
        {
          "output_type": "stream",
          "name": "stdout",
          "text": [
            "[1.0, 2.0, 3.0]\n",
            "[5.0, 2.0, 3.0]\n"
          ]
        }
      ]
    },
    {
      "cell_type": "markdown",
      "metadata": {
        "id": "QORLOOteXvOr"
      },
      "source": [
        "## Matrices representadas como listas\n",
        "\n",
        "Una matriz se puede representar como una lista. Este no es el mejor método (se debe utilizar un mecanismo más especializado, como se verá más adelante)\n",
        "\n",
        "Aquí se representa el ejemplo de una matriz de 3x3"
      ]
    },
    {
      "cell_type": "code",
      "metadata": {
        "colab": {
          "base_uri": "https://localhost:8080/"
        },
        "id": "FidaESKFYIku",
        "outputId": "7f0047d4-96d2-434c-8694-a4c5f78a6f98"
      },
      "source": [
        "a = [[1, 2, 3], \\\n",
        "     [4, 5, 6], \\\n",
        "     [7, 8, 9]]\n",
        "\n",
        "# El símbolo \\ es un carácter de continuación. En este caso, podría omitirse\n",
        "\n",
        "print(a)"
      ],
      "execution_count": null,
      "outputs": [
        {
          "output_type": "stream",
          "name": "stdout",
          "text": [
            "[[1, 2, 3], [4, 5, 6], [7, 8, 9]]\n"
          ]
        }
      ]
    },
    {
      "cell_type": "code",
      "metadata": {
        "colab": {
          "base_uri": "https://localhost:8080/"
        },
        "id": "xupI6EofYwK7",
        "outputId": "5a1d785c-d4bc-420a-d607-b7089dc9e22d"
      },
      "source": [
        "# Accediendo a las filas de la matriz\n",
        "\n",
        "print(a[0])   # Escribe la primera fila\n",
        "print(a[1])   # Escribe la segunda fila\n",
        "print(a[2])   # Escribe la tercera fila"
      ],
      "execution_count": null,
      "outputs": [
        {
          "output_type": "stream",
          "name": "stdout",
          "text": [
            "[1, 2, 3]\n",
            "[4, 5, 6]\n",
            "[7, 8, 9]\n"
          ]
        }
      ]
    },
    {
      "cell_type": "code",
      "metadata": {
        "colab": {
          "base_uri": "https://localhost:8080/"
        },
        "id": "SWFaO_83ZGj2",
        "outputId": "f19bac23-45a3-4ba9-c383-d7e4d0cad6b2"
      },
      "source": [
        "# Accediendo a elementos individuales\n",
        "print(a[1][2])    # Imprime el elemento de la primera fila en la segunda columna"
      ],
      "execution_count": null,
      "outputs": [
        {
          "output_type": "stream",
          "name": "stdout",
          "text": [
            "6\n"
          ]
        }
      ]
    },
    {
      "cell_type": "markdown",
      "metadata": {
        "id": "SnjisszFiMh8"
      },
      "source": [
        "## Operadores Aritméticos\n",
        "\n",
        "![operadores.PNG](data:image/png;base64,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)"
      ]
    },
    {
      "cell_type": "code",
      "metadata": {
        "id": "HllrJE8GiYAA"
      },
      "source": [
        "s = \"Hola \"\n",
        "t = \"Bienvenido\"\n",
        "a = [1, 2, 3]"
      ],
      "execution_count": null,
      "outputs": []
    },
    {
      "cell_type": "code",
      "metadata": {
        "colab": {
          "base_uri": "https://localhost:8080/"
        },
        "id": "d8VofzSmlChj",
        "outputId": "20d9e4df-58f6-4ee7-c1cd-f72e07f906c7"
      },
      "source": [
        "# Repetición\n",
        "print(3 * s)"
      ],
      "execution_count": null,
      "outputs": [
        {
          "output_type": "stream",
          "name": "stdout",
          "text": [
            "Hola Hola Hola \n"
          ]
        }
      ]
    },
    {
      "cell_type": "code",
      "metadata": {
        "colab": {
          "base_uri": "https://localhost:8080/"
        },
        "id": "5kE0jm2OlWU0",
        "outputId": "8df7d5b9-88ab-4757-a352-3c480257dca0"
      },
      "source": [
        "# Repetición\n",
        "print(a * 3)"
      ],
      "execution_count": null,
      "outputs": [
        {
          "output_type": "stream",
          "name": "stdout",
          "text": [
            "[1, 2, 3, 1, 2, 3, 1, 2, 3]\n"
          ]
        }
      ]
    },
    {
      "cell_type": "code",
      "metadata": {
        "colab": {
          "base_uri": "https://localhost:8080/"
        },
        "id": "KHiwJjFUldr7",
        "outputId": "a50417c3-3ef1-45bb-ee0d-d37127386335"
      },
      "source": [
        "# Agregando elementos\n",
        "print(a + [4, 5])"
      ],
      "execution_count": null,
      "outputs": [
        {
          "output_type": "stream",
          "name": "stdout",
          "text": [
            "[1, 2, 3, 4, 5]\n"
          ]
        }
      ]
    },
    {
      "cell_type": "code",
      "metadata": {
        "colab": {
          "base_uri": "https://localhost:8080/"
        },
        "id": "Aqm71-cjlmfn",
        "outputId": "f8603231-f1fc-4c42-ba17-1fa7bb6ee99e"
      },
      "source": [
        "# Concatenación\n",
        "\n",
        "print(s + t)"
      ],
      "execution_count": null,
      "outputs": [
        {
          "output_type": "stream",
          "name": "stdout",
          "text": [
            "Hola Bienvenido\n"
          ]
        }
      ]
    },
    {
      "cell_type": "code",
      "metadata": {
        "colab": {
          "base_uri": "https://localhost:8080/",
          "height": 202
        },
        "id": "40JW_6mplxtj",
        "outputId": "dcb190a0-8c6b-4b4d-ec7d-f5315299e6eb"
      },
      "source": [
        "# Concatenación QUE NO TIENE SENTIDO\n",
        "\n",
        "print(3 + s)"
      ],
      "execution_count": null,
      "outputs": [
        {
          "output_type": "error",
          "ename": "TypeError",
          "evalue": "ignored",
          "traceback": [
            "\u001b[0;31m---------------------------------------------------------------------------\u001b[0m",
            "\u001b[0;31mTypeError\u001b[0m                                 Traceback (most recent call last)",
            "\u001b[0;32m<ipython-input-9-579c1de81371>\u001b[0m in \u001b[0;36m<module>\u001b[0;34m()\u001b[0m\n\u001b[1;32m      1\u001b[0m \u001b[0;31m# Concatenación QUE NO TIENE SENTIDO\u001b[0m\u001b[0;34m\u001b[0m\u001b[0;34m\u001b[0m\u001b[0;34m\u001b[0m\u001b[0m\n\u001b[1;32m      2\u001b[0m \u001b[0;34m\u001b[0m\u001b[0m\n\u001b[0;32m----> 3\u001b[0;31m \u001b[0mprint\u001b[0m\u001b[0;34m(\u001b[0m\u001b[0;36m3\u001b[0m \u001b[0;34m+\u001b[0m \u001b[0ms\u001b[0m\u001b[0;34m)\u001b[0m\u001b[0;34m\u001b[0m\u001b[0;34m\u001b[0m\u001b[0m\n\u001b[0m",
            "\u001b[0;31mTypeError\u001b[0m: unsupported operand type(s) for +: 'int' and 'str'"
          ]
        }
      ]
    },
    {
      "cell_type": "markdown",
      "metadata": {
        "id": "hbrK7K1cjhjT"
      },
      "source": [
        "## Simplificación Operadores\n",
        "\n",
        "![simplificacion_operadores.PNG](data:image/png;base64,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)"
      ]
    },
    {
      "cell_type": "markdown",
      "metadata": {
        "id": "kis5uqIwkP_W"
      },
      "source": [
        "## Comparaciones\n",
        "\n",
        "![comparaciones.PNG](data:image/png;base64,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)"
      ]
    },
    {
      "cell_type": "code",
      "metadata": {
        "colab": {
          "base_uri": "https://localhost:8080/"
        },
        "id": "um2457hMkVOd",
        "outputId": "8c676e10-77fb-4d68-8b5a-24eb1b29a11c"
      },
      "source": [
        "a = 2     # Un entero\n",
        "b = 1.99  # Un real (decimales)\n",
        "c = '2'   # Una cadena\n",
        "\n",
        "print(a > b)  # Es verdadero. Se imprime True (verdadero)"
      ],
      "execution_count": null,
      "outputs": [
        {
          "output_type": "stream",
          "name": "stdout",
          "text": [
            "True\n"
          ]
        }
      ]
    },
    {
      "cell_type": "code",
      "metadata": {
        "colab": {
          "base_uri": "https://localhost:8080/"
        },
        "id": "uToQLjnVpfZc",
        "outputId": "b880442c-641f-44e1-cf7f-0c30e49614e1"
      },
      "source": [
        "print(a == c) # Es falso. Se imprime False"
      ],
      "execution_count": null,
      "outputs": [
        {
          "output_type": "stream",
          "name": "stdout",
          "text": [
            "False\n"
          ]
        }
      ]
    },
    {
      "cell_type": "code",
      "metadata": {
        "colab": {
          "base_uri": "https://localhost:8080/"
        },
        "id": "wdfEcY7rpnUX",
        "outputId": "e488fc9a-e4d1-4edb-a2d3-b7b77aa5dad2"
      },
      "source": [
        "print(a > b) and (a != c) # Es verdadero"
      ],
      "execution_count": null,
      "outputs": [
        {
          "output_type": "stream",
          "name": "stdout",
          "text": [
            "True\n"
          ]
        }
      ]
    },
    {
      "cell_type": "code",
      "metadata": {
        "colab": {
          "base_uri": "https://localhost:8080/"
        },
        "id": "q4VkBq28pv1O",
        "outputId": "60440ea3-9fc5-44c3-ae2c-58470b4f8575"
      },
      "source": [
        "print( (a > b) or (a == b) )  # Es verdadero"
      ],
      "execution_count": null,
      "outputs": [
        {
          "output_type": "stream",
          "name": "stdout",
          "text": [
            "True\n"
          ]
        }
      ]
    }
  ]
}